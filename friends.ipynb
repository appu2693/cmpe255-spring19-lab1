{
 "cells": [
  {
   "cell_type": "code",
   "execution_count": 1,
   "metadata": {},
   "outputs": [
    {
     "name": "stdout",
     "output_type": "stream",
     "text": [
      "[('Dunn', 3), ('Sue', 3), ('Chi', 3), ('Hicks', 3), ('Kate', 3), ('Hero', 2), ('Thor', 2), ('Clive', 2), ('Devin', 2), ('Klein', 1)]\n"
     ]
    }
   ],
   "source": [
    "users =[\n",
    "    { \"id\":0, \"name\": \"Hero\" },\n",
    "    { \"id\":1, \"name\": \"Dunn\" },\n",
    "    { \"id\":2, \"name\": \"Sue\" },\n",
    "    { \"id\":3, \"name\": \"Chi\" },\n",
    "    { \"id\":4, \"name\": \"Thor\" },\n",
    "    { \"id\":5, \"name\": \"Clive\" },\n",
    "    { \"id\":6, \"name\": \"Hicks\" },\n",
    "    { \"id\":7, \"name\": \"Devin\" },\n",
    "    { \"id\":8, \"name\": \"Kate\" },\n",
    "    { \"id\":9, \"name\": \"Klein\" }    \n",
    "]\n",
    "\n",
    "friendship = [\n",
    "    (0, 1),\n",
    "    (0, 2),\n",
    "    (1, 2),\n",
    "    (1, 3),\n",
    "    (2, 3),\n",
    "    (3, 4),\n",
    "    (4, 5),\n",
    "    (5, 6),\n",
    "    (6, 7),\n",
    "    (6, 8),\n",
    "    (7, 8),\n",
    "    (8, 9)\n",
    "]\n",
    "\n",
    "def num_friends(user):\n",
    "    '''\n",
    "    Find number of friends for a given user\n",
    "    '''\n",
    "    # TODO\n",
    "    count = 0\n",
    "    for i in users:\n",
    "        if i[\"name\"]== user:\n",
    "            user_id= i[\"id\"]\n",
    "            break\n",
    "    for j in friendship:\n",
    "        if user_id in j:\n",
    "            count=count+1\n",
    "    return count\n",
    "sorted_friends={}\n",
    "def sort_by_num_friends():\n",
    "    '''README.md\n",
    "    Sort from \"most friends\" to \"least friends\"\n",
    "    '''\n",
    "    # TOOD\n",
    "    for i in users:\n",
    "        sorted_friends.update({i[\"name\"]:num_friends(i[\"name\"])})\n",
    "    #print(sorted_friends)\n",
    "    import operator\n",
    "    sorted_d = sorted(sorted_friends.items(), key=operator.itemgetter(1),reverse=True)\n",
    "    print(sorted_d)\n",
    "    \n",
    "sort_by_num_friends()"
   ]
  },
  {
   "cell_type": "code",
   "execution_count": null,
   "metadata": {},
   "outputs": [],
   "source": []
  }
 ],
 "metadata": {
  "kernelspec": {
   "display_name": "Python 3",
   "language": "python",
   "name": "python3"
  },
  "language_info": {
   "codemirror_mode": {
    "name": "ipython",
    "version": 3
   },
   "file_extension": ".py",
   "mimetype": "text/x-python",
   "name": "python",
   "nbconvert_exporter": "python",
   "pygments_lexer": "ipython3",
   "version": "3.6.5"
  }
 },
 "nbformat": 4,
 "nbformat_minor": 2
}
